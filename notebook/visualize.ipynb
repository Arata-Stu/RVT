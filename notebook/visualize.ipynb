{
 "cells": [
  {
   "cell_type": "code",
   "execution_count": 1,
   "metadata": {},
   "outputs": [],
   "source": [
    "import sys\n",
    "import os\n",
    "sys.path.append('..')"
   ]
  },
  {
   "cell_type": "code",
   "execution_count": null,
   "metadata": {},
   "outputs": [],
   "source": [
    "import numpy as np\n",
    "import matplotlib.pyplot as plt\n",
    "import torch\n",
    "\n",
    "def visualize_image(image, title=None):\n",
    "    \"\"\"\n",
    "    可視化のための画像を表示する関数。\n",
    "    \n",
    "    パラメータ:\n",
    "        image: numpy配列またはtorch.Tensor (C, H, W)\n",
    "        title: 表示するタイトル（オプション）\n",
    "    \"\"\"\n",
    "    # torch.Tensorの場合numpy配列に変換\n",
    "    if isinstance(image, torch.Tensor):\n",
    "        image = image.detach().cpu().numpy()\n",
    "    \n",
    "    # (C, H, W) -> (H, W, C) に変換\n",
    "    if image.shape[0] == 3:  # チャンネル数が先頭の場合\n",
    "        image = np.transpose(image, (1, 2, 0))\n",
    "    \n",
    "    # データをクリップ (特にtorchの可能性を考慮して)\n",
    "    image = np.clip(image, 0, 1)  # [0, 1] 範囲に正規化されている場合\n",
    "    \n",
    "    # 可視化\n",
    "    plt.imshow(image)\n",
    "    if title:\n",
    "        plt.title(title)\n",
    "    plt.axis(\"off\")\n",
    "    plt.show()"
   ]
  },
  {
   "cell_type": "code",
   "execution_count": 2,
   "metadata": {},
   "outputs": [],
   "source": [
    "yaml_path = \"data.yaml\""
   ]
  },
  {
   "cell_type": "code",
   "execution_count": 3,
   "metadata": {},
   "outputs": [
    {
     "name": "stdout",
     "output_type": "stream",
     "text": [
      "Using python-based detection evaluation\n",
      "[Eval] Using streaming dataset. This is not recommended for training because it is slower and\n",
      "ckpt 1\n"
     ]
    },
    {
     "name": "stderr",
     "output_type": "stream",
     "text": [
      "creating streaming test datasets: 120it [00:00, 727.12it/s]"
     ]
    },
    {
     "name": "stdout",
     "output_type": "stream",
     "text": [
      "ckpt 12\n",
      "num_full_sequences=120\n",
      "num_splits=0\n",
      "num_split_sequences=0\n"
     ]
    },
    {
     "name": "stderr",
     "output_type": "stream",
     "text": [
      "\n"
     ]
    }
   ],
   "source": [
    "from modules.utils.fetch import fetch_data_module\n",
    "from omegaconf import OmegaConf\n",
    "\n",
    "config = OmegaConf.load(yaml_path)\n",
    "data_module = fetch_data_module(config=config)\n",
    "data_module.setup(\"test\")"
   ]
  },
  {
   "cell_type": "code",
   "execution_count": 4,
   "metadata": {},
   "outputs": [],
   "source": [
    "test_dataloader = data_module.test_dataloader()"
   ]
  },
  {
   "cell_type": "code",
   "execution_count": 5,
   "metadata": {},
   "outputs": [],
   "source": [
    "from data.utils.types import DataType\n",
    "from utils.padding import InputPadderFromShape\n",
    "\n",
    "data_iter = iter(test_dataloader)\n",
    "data = next(data_iter)[\"data\"]\n",
    "\n",
    "input_padder = InputPadderFromShape(desired_hw=data[DataType.EV_REPR][0].shape[2:4])\n",
    "\n",
    "ev_tensor_sequence = data[DataType.EV_REPR]\n",
    "sparse_obj_labels = data[DataType.OBJLABELS_SEQ]\n",
    "is_first_sample = data[DataType.IS_FIRST_SAMPLE]\n",
    "token_mask_sequence = data.get(DataType.TOKEN_MASK, None)\n",
    "\n",
    "\n",
    "sequence_len = len(ev_tensor_sequence)\n"
   ]
  },
  {
   "cell_type": "code",
   "execution_count": 7,
   "metadata": {},
   "outputs": [],
   "source": [
    "for tidx in range(sequence_len):\n",
    "    ev_tensors = ev_tensor_sequence[tidx]\n",
    "    \n",
    "    ev_tensors = input_padder.pad_tensor_ev_repr(ev_tensors)"
   ]
  },
  {
   "cell_type": "code",
   "execution_count": null,
   "metadata": {},
   "outputs": [],
   "source": []
  }
 ],
 "metadata": {
  "kernelspec": {
   "display_name": "rvt",
   "language": "python",
   "name": "python3"
  },
  "language_info": {
   "codemirror_mode": {
    "name": "ipython",
    "version": 3
   },
   "file_extension": ".py",
   "mimetype": "text/x-python",
   "name": "python",
   "nbconvert_exporter": "python",
   "pygments_lexer": "ipython3",
   "version": "3.9.21"
  }
 },
 "nbformat": 4,
 "nbformat_minor": 2
}
